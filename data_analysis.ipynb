{
 "cells": [
  {
   "cell_type": "code",
   "execution_count": 12,
   "metadata": {},
   "outputs": [],
   "source": [
    "import json\n",
    "\n",
    "import pandas as pd"
   ]
  },
  {
   "cell_type": "markdown",
   "metadata": {},
   "source": [
    "# Data Analysis\n",
    "\n",
    "The available data comes from  a small toy dataset based on the [RVL-CDIP Dataset](http://www.cs.cmu.edu/~aharley/rvl-cdip/). The dataset contains 100 documents of 4 classes: \n",
    "- “resumee”,\n",
    "- “invoice”, \n",
    "- “letter”, \n",
    "- “email.\n",
    "\n",
    "For each document we have:\n",
    "- image, \n",
    "- PDF \n",
    "- OCR in our proprietary dictionary format\n",
    "\n",
    "The dictionaries come consolidated in the ``document_type_data.csv`` file, alongside with the text of the document:"
   ]
  },
  {
   "cell_type": "code",
   "execution_count": 13,
   "metadata": {},
   "outputs": [
    {
     "data": {
      "text/html": [
       "<div>\n",
       "<style scoped>\n",
       "    .dataframe tbody tr th:only-of-type {\n",
       "        vertical-align: middle;\n",
       "    }\n",
       "\n",
       "    .dataframe tbody tr th {\n",
       "        vertical-align: top;\n",
       "    }\n",
       "\n",
       "    .dataframe thead th {\n",
       "        text-align: right;\n",
       "    }\n",
       "</style>\n",
       "<table border=\"1\" class=\"dataframe\">\n",
       "  <thead>\n",
       "    <tr style=\"text-align: right;\">\n",
       "      <th></th>\n",
       "      <th>Unnamed: 0</th>\n",
       "      <th>ocr</th>\n",
       "      <th>text</th>\n",
       "      <th>label</th>\n",
       "      <th>file_name</th>\n",
       "    </tr>\n",
       "  </thead>\n",
       "  <tbody>\n",
       "    <tr>\n",
       "      <th>0</th>\n",
       "      <td>0</td>\n",
       "      <td>{'pageImages': [{'__typename': 'Image', 'width...</td>\n",
       "      <td>['Chaikin, ', 'Karen ', 'n ', \"O' \", 'o ', 'Fr...</td>\n",
       "      <td>email</td>\n",
       "      <td>2085136614c.pdf</td>\n",
       "    </tr>\n",
       "    <tr>\n",
       "      <th>1</th>\n",
       "      <td>1</td>\n",
       "      <td>{'pageImages': [{'__typename': 'Image', 'width...</td>\n",
       "      <td>['&gt; ', 'Jenny, ', 'After ', 'speaking ', 'with...</td>\n",
       "      <td>email</td>\n",
       "      <td>2085136814a.pdf</td>\n",
       "    </tr>\n",
       "    <tr>\n",
       "      <th>2</th>\n",
       "      <td>2</td>\n",
       "      <td>{'pageImages': [{'__typename': 'Image', 'width...</td>\n",
       "      <td>['Please ', 'call ', 'with ', 'any ', 'questio...</td>\n",
       "      <td>email</td>\n",
       "      <td>2085140145a.pdf</td>\n",
       "    </tr>\n",
       "    <tr>\n",
       "      <th>3</th>\n",
       "      <td>3</td>\n",
       "      <td>{'pageImages': [{'__typename': 'Image', 'width...</td>\n",
       "      <td>['2085158326 ', 'Williams, ', 'Carrie ', 'T. '...</td>\n",
       "      <td>email</td>\n",
       "      <td>2085158326.pdf</td>\n",
       "    </tr>\n",
       "    <tr>\n",
       "      <th>4</th>\n",
       "      <td>4</td>\n",
       "      <td>{'pageImages': [{'__typename': 'Image', 'width...</td>\n",
       "      <td>['GJ ', '□3 ', 'A ', 'nice ', 'ending ', 'to '...</td>\n",
       "      <td>email</td>\n",
       "      <td>2085161311b.pdf</td>\n",
       "    </tr>\n",
       "    <tr>\n",
       "      <th>...</th>\n",
       "      <td>...</td>\n",
       "      <td>...</td>\n",
       "      <td>...</td>\n",
       "      <td>...</td>\n",
       "      <td>...</td>\n",
       "    </tr>\n",
       "    <tr>\n",
       "      <th>95</th>\n",
       "      <td>95</td>\n",
       "      <td>{'pageImages': [{'__typename': 'Image', 'width...</td>\n",
       "      <td>['CURRICULUM ', 'VITAE ', 'NILANJAN ', 'ROY ',...</td>\n",
       "      <td>resumee</td>\n",
       "      <td>50701639-1640.pdf</td>\n",
       "    </tr>\n",
       "    <tr>\n",
       "      <th>96</th>\n",
       "      <td>96</td>\n",
       "      <td>{'pageImages': [{'__typename': 'Image', 'width...</td>\n",
       "      <td>['BIOGRAPHICAL ', 'SKETCH ', 'Mark ', 'S. ', '...</td>\n",
       "      <td>resumee</td>\n",
       "      <td>50712092-2093.pdf</td>\n",
       "    </tr>\n",
       "    <tr>\n",
       "      <th>97</th>\n",
       "      <td>97</td>\n",
       "      <td>{'pageImages': [{'__typename': 'Image', 'width...</td>\n",
       "      <td>['May. ', '1997 ', 'CURRICULUM ', 'VITAE ', 'E...</td>\n",
       "      <td>resumee</td>\n",
       "      <td>50735851-5852.pdf</td>\n",
       "    </tr>\n",
       "    <tr>\n",
       "      <th>98</th>\n",
       "      <td>98</td>\n",
       "      <td>{'pageImages': [{'__typename': 'Image', 'width...</td>\n",
       "      <td>['I ', 'CURRICULUM ', 'VITAE ', '* ', 'NAbE: '...</td>\n",
       "      <td>resumee</td>\n",
       "      <td>80412888_80412908.pdf</td>\n",
       "    </tr>\n",
       "    <tr>\n",
       "      <th>99</th>\n",
       "      <td>99</td>\n",
       "      <td>{'pageImages': [{'__typename': 'Image', 'width...</td>\n",
       "      <td>['VITA ', 'e-mail ', 'Professor, ', 'School ',...</td>\n",
       "      <td>resumee</td>\n",
       "      <td>98032348_2356.pdf</td>\n",
       "    </tr>\n",
       "  </tbody>\n",
       "</table>\n",
       "<p>100 rows × 5 columns</p>\n",
       "</div>"
      ],
      "text/plain": [
       "    Unnamed: 0                                                ocr  \\\n",
       "0            0  {'pageImages': [{'__typename': 'Image', 'width...   \n",
       "1            1  {'pageImages': [{'__typename': 'Image', 'width...   \n",
       "2            2  {'pageImages': [{'__typename': 'Image', 'width...   \n",
       "3            3  {'pageImages': [{'__typename': 'Image', 'width...   \n",
       "4            4  {'pageImages': [{'__typename': 'Image', 'width...   \n",
       "..         ...                                                ...   \n",
       "95          95  {'pageImages': [{'__typename': 'Image', 'width...   \n",
       "96          96  {'pageImages': [{'__typename': 'Image', 'width...   \n",
       "97          97  {'pageImages': [{'__typename': 'Image', 'width...   \n",
       "98          98  {'pageImages': [{'__typename': 'Image', 'width...   \n",
       "99          99  {'pageImages': [{'__typename': 'Image', 'width...   \n",
       "\n",
       "                                                 text    label  \\\n",
       "0   ['Chaikin, ', 'Karen ', 'n ', \"O' \", 'o ', 'Fr...    email   \n",
       "1   ['> ', 'Jenny, ', 'After ', 'speaking ', 'with...    email   \n",
       "2   ['Please ', 'call ', 'with ', 'any ', 'questio...    email   \n",
       "3   ['2085158326 ', 'Williams, ', 'Carrie ', 'T. '...    email   \n",
       "4   ['GJ ', '□3 ', 'A ', 'nice ', 'ending ', 'to '...    email   \n",
       "..                                                ...      ...   \n",
       "95  ['CURRICULUM ', 'VITAE ', 'NILANJAN ', 'ROY ',...  resumee   \n",
       "96  ['BIOGRAPHICAL ', 'SKETCH ', 'Mark ', 'S. ', '...  resumee   \n",
       "97  ['May. ', '1997 ', 'CURRICULUM ', 'VITAE ', 'E...  resumee   \n",
       "98  ['I ', 'CURRICULUM ', 'VITAE ', '* ', 'NAbE: '...  resumee   \n",
       "99  ['VITA ', 'e-mail ', 'Professor, ', 'School ',...  resumee   \n",
       "\n",
       "                file_name  \n",
       "0         2085136614c.pdf  \n",
       "1         2085136814a.pdf  \n",
       "2         2085140145a.pdf  \n",
       "3          2085158326.pdf  \n",
       "4         2085161311b.pdf  \n",
       "..                    ...  \n",
       "95      50701639-1640.pdf  \n",
       "96      50712092-2093.pdf  \n",
       "97      50735851-5852.pdf  \n",
       "98  80412888_80412908.pdf  \n",
       "99      98032348_2356.pdf  \n",
       "\n",
       "[100 rows x 5 columns]"
      ]
     },
     "execution_count": 13,
     "metadata": {},
     "output_type": "execute_result"
    }
   ],
   "source": [
    "df = pd.read_csv(\"./data/document_type_data.csv\")\n",
    "df"
   ]
  },
  {
   "cell_type": "code",
   "execution_count": 51,
   "metadata": {},
   "outputs": [
    {
     "ename": "JSONDecodeError",
     "evalue": "Expecting property name enclosed in double quotes: line 1 column 2 (char 1)",
     "output_type": "error",
     "traceback": [
      "\u001b[0;31m---------------------------------------------------------------------------\u001b[0m",
      "\u001b[0;31mJSONDecodeError\u001b[0m                           Traceback (most recent call last)",
      "\u001b[0;32m<ipython-input-51-2571a5b157e8>\u001b[0m in \u001b[0;36m<module>\u001b[0;34m\u001b[0m\n\u001b[0;32m----> 1\u001b[0;31m \u001b[0mjson\u001b[0m\u001b[0;34m.\u001b[0m\u001b[0mloads\u001b[0m\u001b[0;34m(\u001b[0m\u001b[0mdf\u001b[0m\u001b[0;34m.\u001b[0m\u001b[0mloc\u001b[0m\u001b[0;34m[\u001b[0m\u001b[0;36m0\u001b[0m\u001b[0;34m,\u001b[0m \u001b[0;34m\"ocr\"\u001b[0m\u001b[0;34m]\u001b[0m\u001b[0;34m)\u001b[0m\u001b[0;34m\u001b[0m\u001b[0;34m\u001b[0m\u001b[0m\n\u001b[0m",
      "\u001b[0;32m~/anaconda3/envs/document-classificator/lib/python3.8/json/__init__.py\u001b[0m in \u001b[0;36mloads\u001b[0;34m(s, cls, object_hook, parse_float, parse_int, parse_constant, object_pairs_hook, **kw)\u001b[0m\n\u001b[1;32m    355\u001b[0m             \u001b[0mparse_int\u001b[0m \u001b[0;32mis\u001b[0m \u001b[0;32mNone\u001b[0m \u001b[0;32mand\u001b[0m \u001b[0mparse_float\u001b[0m \u001b[0;32mis\u001b[0m \u001b[0;32mNone\u001b[0m \u001b[0;32mand\u001b[0m\u001b[0;34m\u001b[0m\u001b[0;34m\u001b[0m\u001b[0m\n\u001b[1;32m    356\u001b[0m             parse_constant is None and object_pairs_hook is None and not kw):\n\u001b[0;32m--> 357\u001b[0;31m         \u001b[0;32mreturn\u001b[0m \u001b[0m_default_decoder\u001b[0m\u001b[0;34m.\u001b[0m\u001b[0mdecode\u001b[0m\u001b[0;34m(\u001b[0m\u001b[0ms\u001b[0m\u001b[0;34m)\u001b[0m\u001b[0;34m\u001b[0m\u001b[0;34m\u001b[0m\u001b[0m\n\u001b[0m\u001b[1;32m    358\u001b[0m     \u001b[0;32mif\u001b[0m \u001b[0mcls\u001b[0m \u001b[0;32mis\u001b[0m \u001b[0;32mNone\u001b[0m\u001b[0;34m:\u001b[0m\u001b[0;34m\u001b[0m\u001b[0;34m\u001b[0m\u001b[0m\n\u001b[1;32m    359\u001b[0m         \u001b[0mcls\u001b[0m \u001b[0;34m=\u001b[0m \u001b[0mJSONDecoder\u001b[0m\u001b[0;34m\u001b[0m\u001b[0;34m\u001b[0m\u001b[0m\n",
      "\u001b[0;32m~/anaconda3/envs/document-classificator/lib/python3.8/json/decoder.py\u001b[0m in \u001b[0;36mdecode\u001b[0;34m(self, s, _w)\u001b[0m\n\u001b[1;32m    335\u001b[0m \u001b[0;34m\u001b[0m\u001b[0m\n\u001b[1;32m    336\u001b[0m         \"\"\"\n\u001b[0;32m--> 337\u001b[0;31m         \u001b[0mobj\u001b[0m\u001b[0;34m,\u001b[0m \u001b[0mend\u001b[0m \u001b[0;34m=\u001b[0m \u001b[0mself\u001b[0m\u001b[0;34m.\u001b[0m\u001b[0mraw_decode\u001b[0m\u001b[0;34m(\u001b[0m\u001b[0ms\u001b[0m\u001b[0;34m,\u001b[0m \u001b[0midx\u001b[0m\u001b[0;34m=\u001b[0m\u001b[0m_w\u001b[0m\u001b[0;34m(\u001b[0m\u001b[0ms\u001b[0m\u001b[0;34m,\u001b[0m \u001b[0;36m0\u001b[0m\u001b[0;34m)\u001b[0m\u001b[0;34m.\u001b[0m\u001b[0mend\u001b[0m\u001b[0;34m(\u001b[0m\u001b[0;34m)\u001b[0m\u001b[0;34m)\u001b[0m\u001b[0;34m\u001b[0m\u001b[0;34m\u001b[0m\u001b[0m\n\u001b[0m\u001b[1;32m    338\u001b[0m         \u001b[0mend\u001b[0m \u001b[0;34m=\u001b[0m \u001b[0m_w\u001b[0m\u001b[0;34m(\u001b[0m\u001b[0ms\u001b[0m\u001b[0;34m,\u001b[0m \u001b[0mend\u001b[0m\u001b[0;34m)\u001b[0m\u001b[0;34m.\u001b[0m\u001b[0mend\u001b[0m\u001b[0;34m(\u001b[0m\u001b[0;34m)\u001b[0m\u001b[0;34m\u001b[0m\u001b[0;34m\u001b[0m\u001b[0m\n\u001b[1;32m    339\u001b[0m         \u001b[0;32mif\u001b[0m \u001b[0mend\u001b[0m \u001b[0;34m!=\u001b[0m \u001b[0mlen\u001b[0m\u001b[0;34m(\u001b[0m\u001b[0ms\u001b[0m\u001b[0;34m)\u001b[0m\u001b[0;34m:\u001b[0m\u001b[0;34m\u001b[0m\u001b[0;34m\u001b[0m\u001b[0m\n",
      "\u001b[0;32m~/anaconda3/envs/document-classificator/lib/python3.8/json/decoder.py\u001b[0m in \u001b[0;36mraw_decode\u001b[0;34m(self, s, idx)\u001b[0m\n\u001b[1;32m    351\u001b[0m         \"\"\"\n\u001b[1;32m    352\u001b[0m         \u001b[0;32mtry\u001b[0m\u001b[0;34m:\u001b[0m\u001b[0;34m\u001b[0m\u001b[0;34m\u001b[0m\u001b[0m\n\u001b[0;32m--> 353\u001b[0;31m             \u001b[0mobj\u001b[0m\u001b[0;34m,\u001b[0m \u001b[0mend\u001b[0m \u001b[0;34m=\u001b[0m \u001b[0mself\u001b[0m\u001b[0;34m.\u001b[0m\u001b[0mscan_once\u001b[0m\u001b[0;34m(\u001b[0m\u001b[0ms\u001b[0m\u001b[0;34m,\u001b[0m \u001b[0midx\u001b[0m\u001b[0;34m)\u001b[0m\u001b[0;34m\u001b[0m\u001b[0;34m\u001b[0m\u001b[0m\n\u001b[0m\u001b[1;32m    354\u001b[0m         \u001b[0;32mexcept\u001b[0m \u001b[0mStopIteration\u001b[0m \u001b[0;32mas\u001b[0m \u001b[0merr\u001b[0m\u001b[0;34m:\u001b[0m\u001b[0;34m\u001b[0m\u001b[0;34m\u001b[0m\u001b[0m\n\u001b[1;32m    355\u001b[0m             \u001b[0;32mraise\u001b[0m \u001b[0mJSONDecodeError\u001b[0m\u001b[0;34m(\u001b[0m\u001b[0;34m\"Expecting value\"\u001b[0m\u001b[0;34m,\u001b[0m \u001b[0ms\u001b[0m\u001b[0;34m,\u001b[0m \u001b[0merr\u001b[0m\u001b[0;34m.\u001b[0m\u001b[0mvalue\u001b[0m\u001b[0;34m)\u001b[0m \u001b[0;32mfrom\u001b[0m \u001b[0;32mNone\u001b[0m\u001b[0;34m\u001b[0m\u001b[0;34m\u001b[0m\u001b[0m\n",
      "\u001b[0;31mJSONDecodeError\u001b[0m: Expecting property name enclosed in double quotes: line 1 column 2 (char 1)"
     ]
    }
   ],
   "source": [
    "json.loads(df.loc[0, \"ocr\"])"
   ]
  },
  {
   "cell_type": "markdown",
   "metadata": {},
   "source": [
    "**Warning**: there are problems with ``\"`` for some fields in the json OCR strings, hence, we will just use ``text`` information available"
   ]
  },
  {
   "cell_type": "code",
   "execution_count": 52,
   "metadata": {},
   "outputs": [
    {
     "data": {
      "text/plain": [
       "0     ['Chaikin, ', 'Karen ', 'n ', \"O' \", 'o ', 'Fr...\n",
       "1     ['> ', 'Jenny, ', 'After ', 'speaking ', 'with...\n",
       "2     ['Please ', 'call ', 'with ', 'any ', 'questio...\n",
       "3     ['2085158326 ', 'Williams, ', 'Carrie ', 'T. '...\n",
       "4     ['GJ ', '□3 ', 'A ', 'nice ', 'ending ', 'to '...\n",
       "                            ...                        \n",
       "95    ['CURRICULUM ', 'VITAE ', 'NILANJAN ', 'ROY ',...\n",
       "96    ['BIOGRAPHICAL ', 'SKETCH ', 'Mark ', 'S. ', '...\n",
       "97    ['May. ', '1997 ', 'CURRICULUM ', 'VITAE ', 'E...\n",
       "98    ['I ', 'CURRICULUM ', 'VITAE ', '* ', 'NAbE: '...\n",
       "99    ['VITA ', 'e-mail ', 'Professor, ', 'School ',...\n",
       "Name: text, Length: 100, dtype: object"
      ]
     },
     "execution_count": 52,
     "metadata": {},
     "output_type": "execute_result"
    }
   ],
   "source": [
    "df[\"text\"]"
   ]
  },
  {
   "cell_type": "code",
   "execution_count": null,
   "metadata": {},
   "outputs": [],
   "source": []
  }
 ],
 "metadata": {
  "kernelspec": {
   "display_name": "Python 3",
   "language": "python",
   "name": "python3"
  },
  "language_info": {
   "codemirror_mode": {
    "name": "ipython",
    "version": 3
   },
   "file_extension": ".py",
   "mimetype": "text/x-python",
   "name": "python",
   "nbconvert_exporter": "python",
   "pygments_lexer": "ipython3",
   "version": "3.8.5"
  }
 },
 "nbformat": 4,
 "nbformat_minor": 4
}
