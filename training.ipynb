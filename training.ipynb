{
 "cells": [
  {
   "cell_type": "code",
   "execution_count": 1,
   "metadata": {},
   "outputs": [],
   "source": [
    "import re\n",
    "import time\n",
    "\n",
    "import torch\n",
    "import pandas as pd\n",
    "from torch import nn\n",
    "\n",
    "from src import dataset, utils, models"
   ]
  },
  {
   "cell_type": "markdown",
   "metadata": {},
   "source": [
    "# Training"
   ]
  },
  {
   "cell_type": "markdown",
   "metadata": {},
   "source": [
    "## Loading Data"
   ]
  },
  {
   "cell_type": "code",
   "execution_count": 2,
   "metadata": {},
   "outputs": [
    {
     "data": {
      "text/html": [
       "<div>\n",
       "<style scoped>\n",
       "    .dataframe tbody tr th:only-of-type {\n",
       "        vertical-align: middle;\n",
       "    }\n",
       "\n",
       "    .dataframe tbody tr th {\n",
       "        vertical-align: top;\n",
       "    }\n",
       "\n",
       "    .dataframe thead th {\n",
       "        text-align: right;\n",
       "    }\n",
       "</style>\n",
       "<table border=\"1\" class=\"dataframe\">\n",
       "  <thead>\n",
       "    <tr style=\"text-align: right;\">\n",
       "      <th></th>\n",
       "      <th>text</th>\n",
       "      <th>label</th>\n",
       "    </tr>\n",
       "  </thead>\n",
       "  <tbody>\n",
       "    <tr>\n",
       "      <th>0</th>\n",
       "      <td>chaikin  karen  n  o  o  from  sent  to  subje...</td>\n",
       "      <td>email</td>\n",
       "    </tr>\n",
       "    <tr>\n",
       "      <th>1</th>\n",
       "      <td>jenny  after  speaking  with  elisa  about  ...</td>\n",
       "      <td>email</td>\n",
       "    </tr>\n",
       "    <tr>\n",
       "      <th>2</th>\n",
       "      <td>please  call  with  any  questions  thanks  nw...</td>\n",
       "      <td>email</td>\n",
       "    </tr>\n",
       "    <tr>\n",
       "      <th>3</th>\n",
       "      <td>2085158326  williams  carrie  t  lbco  will  b...</td>\n",
       "      <td>email</td>\n",
       "    </tr>\n",
       "    <tr>\n",
       "      <th>4</th>\n",
       "      <td>gj  3  a  nice  ending  to  the  story  below ...</td>\n",
       "      <td>email</td>\n",
       "    </tr>\n",
       "    <tr>\n",
       "      <th>...</th>\n",
       "      <td>...</td>\n",
       "      <td>...</td>\n",
       "    </tr>\n",
       "    <tr>\n",
       "      <th>95</th>\n",
       "      <td>curriculum  vitae  nilanjan  roy  name  1st  o...</td>\n",
       "      <td>resumee</td>\n",
       "    </tr>\n",
       "    <tr>\n",
       "      <th>96</th>\n",
       "      <td>biographical  sketch  mark  s  ptashne  profes...</td>\n",
       "      <td>resumee</td>\n",
       "    </tr>\n",
       "    <tr>\n",
       "      <th>97</th>\n",
       "      <td>may  1997  curriculum  vitae  education  and  ...</td>\n",
       "      <td>resumee</td>\n",
       "    </tr>\n",
       "    <tr>\n",
       "      <th>98</th>\n",
       "      <td>i  curriculum  vitae    nabe  emil  r  unanue ...</td>\n",
       "      <td>resumee</td>\n",
       "    </tr>\n",
       "    <tr>\n",
       "      <th>99</th>\n",
       "      <td>vita  email  professor  school  of  social  we...</td>\n",
       "      <td>resumee</td>\n",
       "    </tr>\n",
       "  </tbody>\n",
       "</table>\n",
       "<p>100 rows × 2 columns</p>\n",
       "</div>"
      ],
      "text/plain": [
       "                                                 text    label\n",
       "0   chaikin  karen  n  o  o  from  sent  to  subje...    email\n",
       "1     jenny  after  speaking  with  elisa  about  ...    email\n",
       "2   please  call  with  any  questions  thanks  nw...    email\n",
       "3   2085158326  williams  carrie  t  lbco  will  b...    email\n",
       "4   gj  3  a  nice  ending  to  the  story  below ...    email\n",
       "..                                                ...      ...\n",
       "95  curriculum  vitae  nilanjan  roy  name  1st  o...  resumee\n",
       "96  biographical  sketch  mark  s  ptashne  profes...  resumee\n",
       "97  may  1997  curriculum  vitae  education  and  ...  resumee\n",
       "98  i  curriculum  vitae    nabe  emil  r  unanue ...  resumee\n",
       "99  vita  email  professor  school  of  social  we...  resumee\n",
       "\n",
       "[100 rows x 2 columns]"
      ]
     },
     "execution_count": 2,
     "metadata": {},
     "output_type": "execute_result"
    }
   ],
   "source": [
    "df = pd.read_csv(\"./data/document_type_data.csv\")[[\"text\", \"label\"]]\n",
    "code2label = dict(enumerate(df['label'].astype(\"category\").cat.categories ) )\n",
    "df.loc[:, \"text\"] = df[\"text\"].str.lower().apply(lambda x : re.sub(r'[^a-zA-Z0-9 ]', '', x))\n",
    "df"
   ]
  },
  {
   "cell_type": "code",
   "execution_count": 3,
   "metadata": {},
   "outputs": [],
   "source": [
    "vocab, tokenizer = utils.get_vocab(df.set_index(\"label\")[\"text\"].iteritems())"
   ]
  },
  {
   "cell_type": "code",
   "execution_count": 4,
   "metadata": {},
   "outputs": [
    {
     "name": "stdout",
     "output_type": "stream",
     "text": [
      "Sizes: 60 20 20\n"
     ]
    }
   ],
   "source": [
    "train_df, val_df, test_df = utils.split_dataframe(df)\n",
    "# initialize datasets\n",
    "train_dataset = dataset.DocTextDataset(train_df, code2label, vocab, tokenizer)\n",
    "val_dataset = dataset.DocTextDataset(val_df, code2label, vocab, tokenizer)\n",
    "test_dataset = dataset.DocTextDataset(test_df, code2label, vocab, tokenizer)\n",
    "print(\"Sizes:\", len(train_dataset), len(val_dataset), len(test_dataset))"
   ]
  },
  {
   "cell_type": "code",
   "execution_count": 5,
   "metadata": {},
   "outputs": [],
   "source": [
    "train_loader = torch.utils.data.DataLoader(train_dataset, batch_size=8, shuffle=False, collate_fn=utils.collate_batch)\n",
    "val_loader = torch.utils.data.DataLoader(val_dataset, batch_size=8, shuffle=False, collate_fn=utils.collate_batch)\n",
    "test_loader = torch.utils.data.DataLoader(test_dataset, batch_size=8, shuffle=False, collate_fn=utils.collate_batch)"
   ]
  },
  {
   "cell_type": "markdown",
   "metadata": {},
   "source": [
    "## Define Model"
   ]
  },
  {
   "cell_type": "markdown",
   "metadata": {},
   "source": [
    "As suggested in Pytorch's [Text Sentiment n-Grams classification](https://pytorch.org/tutorials/beginner/text_sentiment_ngrams_tutorial.html), the model is composed of the [nn.EmbeddingBag](https://pytorch.org/docs/stable/nn.html?highlight=embeddingbag#torch.nn.EmbeddingBag) layer plus a linear layer for the classification purpose. "
   ]
  },
  {
   "cell_type": "code",
   "execution_count": 6,
   "metadata": {},
   "outputs": [],
   "source": [
    "model = models.TextClassificationModel(\n",
    "    vocab_size = len(train_dataset.vocab), \n",
    "    embed_dim = 64 ,\n",
    "    num_class= len(train_dataset.code2label),\n",
    ")\n",
    "\n",
    "model = model.to(utils.get_device())"
   ]
  },
  {
   "cell_type": "markdown",
   "metadata": {},
   "source": [
    "## Training"
   ]
  },
  {
   "cell_type": "code",
   "execution_count": 7,
   "metadata": {},
   "outputs": [
    {
     "name": "stdout",
     "output_type": "stream",
     "text": [
      "---------------------------------------------------------------------------------\n",
      "| end of epoch   1 | time:  0.09s | train accuracy 53.3% |valid accuracy 15.0% |\n",
      "---------------------------------------------------------------------------------\n",
      "---------------------------------------------------------------------------------\n",
      "| end of epoch   2 | time:  0.07s | train accuracy 73.3% |valid accuracy 30.0% |\n",
      "---------------------------------------------------------------------------------\n",
      "---------------------------------------------------------------------------------\n",
      "| end of epoch   3 | time:  0.07s | train accuracy 83.3% |valid accuracy 50.0% |\n",
      "---------------------------------------------------------------------------------\n",
      "---------------------------------------------------------------------------------\n",
      "| end of epoch   4 | time:  0.06s | train accuracy 83.3% |valid accuracy 55.0% |\n",
      "---------------------------------------------------------------------------------\n",
      "---------------------------------------------------------------------------------\n",
      "| end of epoch   5 | time:  0.07s | train accuracy 88.3% |valid accuracy 55.0% |\n",
      "---------------------------------------------------------------------------------\n",
      "---------------------------------------------------------------------------------\n",
      "| end of epoch   6 | time:  0.06s | train accuracy 90.0% |valid accuracy 55.0% |\n",
      "---------------------------------------------------------------------------------\n",
      "---------------------------------------------------------------------------------\n",
      "| end of epoch   7 | time:  0.07s | train accuracy 91.7% |valid accuracy 65.0% |\n",
      "---------------------------------------------------------------------------------\n",
      "---------------------------------------------------------------------------------\n",
      "| end of epoch   8 | time:  0.07s | train accuracy 95.0% |valid accuracy 90.0% |\n",
      "---------------------------------------------------------------------------------\n",
      "---------------------------------------------------------------------------------\n",
      "| end of epoch   9 | time:  0.06s | train accuracy 98.3% |valid accuracy 90.0% |\n",
      "---------------------------------------------------------------------------------\n",
      "---------------------------------------------------------------------------------\n",
      "| end of epoch  10 | time:  0.06s | train accuracy 98.3% |valid accuracy 90.0% |\n",
      "---------------------------------------------------------------------------------\n",
      "---------------------------------------------------------------------------------\n",
      "| end of epoch  11 | time:  0.07s | train accuracy 98.3% |valid accuracy 90.0% |\n",
      "---------------------------------------------------------------------------------\n",
      "---------------------------------------------------------------------------------\n",
      "| end of epoch  12 | time:  0.07s | train accuracy 100.0% |valid accuracy 90.0% |\n",
      "---------------------------------------------------------------------------------\n",
      "---------------------------------------------------------------------------------\n",
      "| end of epoch  13 | time:  0.06s | train accuracy 100.0% |valid accuracy 90.0% |\n",
      "---------------------------------------------------------------------------------\n",
      "---------------------------------------------------------------------------------\n",
      "| end of epoch  14 | time:  0.06s | train accuracy 100.0% |valid accuracy 90.0% |\n",
      "---------------------------------------------------------------------------------\n",
      "---------------------------------------------------------------------------------\n",
      "| end of epoch  15 | time:  0.07s | train accuracy 100.0% |valid accuracy 90.0% |\n",
      "---------------------------------------------------------------------------------\n",
      "---------------------------------------------------------------------------------\n",
      "| end of epoch  16 | time:  0.07s | train accuracy 100.0% |valid accuracy 90.0% |\n",
      "---------------------------------------------------------------------------------\n",
      "---------------------------------------------------------------------------------\n",
      "| end of epoch  17 | time:  0.07s | train accuracy 100.0% |valid accuracy 90.0% |\n",
      "---------------------------------------------------------------------------------\n",
      "---------------------------------------------------------------------------------\n",
      "| end of epoch  18 | time:  0.09s | train accuracy 100.0% |valid accuracy 90.0% |\n",
      "---------------------------------------------------------------------------------\n",
      "---------------------------------------------------------------------------------\n",
      "| end of epoch  19 | time:  0.07s | train accuracy 100.0% |valid accuracy 90.0% |\n",
      "---------------------------------------------------------------------------------\n",
      "---------------------------------------------------------------------------------\n",
      "| end of epoch  20 | time:  0.06s | train accuracy 100.0% |valid accuracy 90.0% |\n",
      "---------------------------------------------------------------------------------\n"
     ]
    }
   ],
   "source": [
    "# Hyperparameters\n",
    "EPOCHS = 20 # epoch\n",
    "LR = 5  # learning rate\n",
    "BATCH_SIZE = 64 # batch size for training\n",
    "  \n",
    "criterion = torch.nn.CrossEntropyLoss()\n",
    "optimizer = torch.optim.SGD(model.parameters(), lr=LR)\n",
    "scheduler = torch.optim.lr_scheduler.StepLR(optimizer, 1.0, gamma=0.1)\n",
    "\n",
    "total_accu = None\n",
    "\n",
    "for epoch in range(1, EPOCHS + 1):\n",
    "    epoch_start_time = time.time()\n",
    "    utils.train(model, train_loader, criterion, optimizer, epoch)\n",
    "    accu_train = utils.evaluate(model, train_loader)\n",
    "    accu_val = utils.evaluate(model, val_loader)\n",
    "    if total_accu is not None and total_accu > accu_val:\n",
    "        scheduler.step()\n",
    "    else:\n",
    "        total_accu = accu_val\n",
    "    print('-' * 81)\n",
    "    print(f'| end of epoch {epoch:3d} | '\n",
    "          + f'time: {time.time() - epoch_start_time:5.2f}s | '\n",
    "          + f'train accuracy {accu_train:.1%} |'\n",
    "          + f'valid accuracy {accu_val:.1%} |')\n",
    "    print('-' * 81)"
   ]
  },
  {
   "cell_type": "markdown",
   "metadata": {},
   "source": [
    "## Testing"
   ]
  },
  {
   "cell_type": "code",
   "execution_count": 9,
   "metadata": {},
   "outputs": [
    {
     "name": "stdout",
     "output_type": "stream",
     "text": [
      "test accuracy    0.900\n"
     ]
    }
   ],
   "source": [
    "accu_test = utils.evaluate(model, test_loader)\n",
    "print(f'test accuracy {accu_test:8.3f}')"
   ]
  },
  {
   "cell_type": "code",
   "execution_count": null,
   "metadata": {},
   "outputs": [],
   "source": []
  }
 ],
 "metadata": {
  "kernelspec": {
   "display_name": "Python 3",
   "language": "python",
   "name": "python3"
  },
  "language_info": {
   "codemirror_mode": {
    "name": "ipython",
    "version": 3
   },
   "file_extension": ".py",
   "mimetype": "text/x-python",
   "name": "python",
   "nbconvert_exporter": "python",
   "pygments_lexer": "ipython3",
   "version": "3.8.5"
  }
 },
 "nbformat": 4,
 "nbformat_minor": 4
}
